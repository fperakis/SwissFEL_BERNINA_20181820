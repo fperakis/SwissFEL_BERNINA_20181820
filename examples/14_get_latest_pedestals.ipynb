{
 "cells": [
  {
   "cell_type": "markdown",
   "metadata": {},
   "source": [
    "# Getting the filename of the most recent pedestals for a given run"
   ]
  },
  {
   "cell_type": "code",
   "execution_count": 7,
   "metadata": {
    "collapsed": true
   },
   "outputs": [],
   "source": [
    "%matplotlib notebook\n",
    "import numpy as np\n",
    "import matplotlib.pyplot as plt\n",
    "import h5py\n",
    "import time\n",
    "import sys\n",
    "import os\n",
    "from pprint import pprint"
   ]
  },
  {
   "cell_type": "code",
   "execution_count": 2,
   "metadata": {
    "collapsed": true
   },
   "outputs": [],
   "source": [
    "def get_date(filepath):\n",
    "    \"\"\"\n",
    "    Returns the when file was last modified\n",
    "    \"\"\"\n",
    "    stat = os.stat(filepath)\n",
    "    return stat.st_mtime\n",
    "\n",
    "def discover_files(path):\n",
    "    '''\n",
    "    Looks in the given directory and returns the filenames\n",
    "    '''\n",
    "    for (dirpath, dirnames, filenames) in os.walk(path):\n",
    "        break\n",
    "    return filenames"
   ]
  },
  {
   "cell_type": "markdown",
   "metadata": {},
   "source": [
    "### discover pedestals files"
   ]
  },
  {
   "cell_type": "code",
   "execution_count": 8,
   "metadata": {},
   "outputs": [
    {
     "name": "stdout",
     "output_type": "stream",
     "text": [
      "['pedestal_20190130_1925.JF07T32V01.res.h5',\n",
      " 'pedestal_20190115_1551.JF03T01V01.res.h5',\n",
      " 'pedestal_20190115_1520.JF07T32V01.res.h5',\n",
      " 'pedestal_20190115_1502.JF07T32V01.res.h5',\n",
      " 'pedestal_20190111_1622.JF03T01V01.res.h5',\n",
      " 'pedestal_20190131_0918.JF07T32V01.res.h5',\n",
      " 'pedestal_20190129_1549.JF03T01V01.res.h5',\n",
      " 'pedestal_20190115_1542.JF03T01V01.res.h5',\n",
      " 'pedestal_20190130_1925.JF03T01V01.res.h5',\n",
      " 'pedestal_20190111_1622.JF07T32V01.res.h5',\n",
      " 'pedestal_20190127_1638.JF07T32V01.res.h5',\n",
      " 'pedestal_20190115_1551.JF07T32V01.res.h5',\n",
      " 'pedestal_20190115_1502.JF03T01V01.res.h5',\n",
      " 'pedestal_20190115_1535.JF07T32V01.res.h5',\n",
      " 'pedestal_20190127_1638.JF03T01V01.res.h5',\n",
      " 'pedestal_20190115_1542.JF07T32V01.res.h5',\n",
      " 'pedestal_20190129_1549.JF07T32V01.res.h5',\n",
      " 'pedestal_20190129_1541.JF07T32V01.res.h5',\n",
      " 'pedestal_20190131_0918.JF03T01V01.res.h5',\n",
      " 'pedestal_20190115_1535.JF03T01V01.res.h5',\n",
      " 'pedestal_20190115_1520.JF03T01V01.res.h5']\n"
     ]
    }
   ],
   "source": [
    "pede_path = '/sf/bernina/data/p17743/res/JF_pedestal/'\n",
    "pede_files = discover_files(pede_path)\n",
    "n_files = len(pede_files)\n",
    "pprint(pede_files)"
   ]
  },
  {
   "cell_type": "markdown",
   "metadata": {},
   "source": [
    "### separate pedestals from JF03 and JF07"
   ]
  },
  {
   "cell_type": "code",
   "execution_count": 30,
   "metadata": {},
   "outputs": [
    {
     "name": "stdout",
     "output_type": "stream",
     "text": [
      "-- JF03 files\n",
      "array(['pedestal_20190115_1551.JF03T01V01.res.h5',\n",
      "       'pedestal_20190111_1622.JF03T01V01.res.h5',\n",
      "       'pedestal_20190129_1549.JF03T01V01.res.h5',\n",
      "       'pedestal_20190115_1542.JF03T01V01.res.h5',\n",
      "       'pedestal_20190130_1925.JF03T01V01.res.h5',\n",
      "       'pedestal_20190115_1502.JF03T01V01.res.h5',\n",
      "       'pedestal_20190127_1638.JF03T01V01.res.h5',\n",
      "       'pedestal_20190131_0918.JF03T01V01.res.h5',\n",
      "       'pedestal_20190115_1535.JF03T01V01.res.h5',\n",
      "       'pedestal_20190115_1520.JF03T01V01.res.h5'],\n",
      "      dtype='<U40')\n",
      "-- JF07 files\n",
      "array(['pedestal_20190130_1925.JF07T32V01.res.h5',\n",
      "       'pedestal_20190115_1520.JF07T32V01.res.h5',\n",
      "       'pedestal_20190115_1502.JF07T32V01.res.h5',\n",
      "       'pedestal_20190131_0918.JF07T32V01.res.h5',\n",
      "       'pedestal_20190111_1622.JF07T32V01.res.h5',\n",
      "       'pedestal_20190127_1638.JF07T32V01.res.h5',\n",
      "       'pedestal_20190115_1551.JF07T32V01.res.h5',\n",
      "       'pedestal_20190115_1535.JF07T32V01.res.h5',\n",
      "       'pedestal_20190115_1542.JF07T32V01.res.h5',\n",
      "       'pedestal_20190129_1549.JF07T32V01.res.h5',\n",
      "       'pedestal_20190129_1541.JF07T32V01.res.h5'],\n",
      "      dtype='<U40')\n"
     ]
    }
   ],
   "source": [
    "jf3_files = []\n",
    "jf7_files = []\n",
    "\n",
    "for i in range(n_files):\n",
    "    if 'JF03' in pede_files[i]:\n",
    "        jf3_files = np.append(jf3_files,pede_files[i])\n",
    "    elif 'JF07' in pede_files[i]:\n",
    "        jf7_files = np.append(jf7_files,pede_files[i])\n",
    "\n",
    "print('-- JF03 files')\n",
    "pprint(jf3_files) \n",
    "\n",
    "\n",
    "print('-- JF07 files')\n",
    "pprint(jf7_files)\n"
   ]
  },
  {
   "cell_type": "markdown",
   "metadata": {},
   "source": [
    "### get dates"
   ]
  },
  {
   "cell_type": "code",
   "execution_count": 37,
   "metadata": {},
   "outputs": [
    {
     "name": "stdout",
     "output_type": "stream",
     "text": [
      "array([  1.54877105e+09,   1.54877094e+09,   1.54877348e+09,\n",
      "         1.54877103e+09,   1.54887290e+09,   1.54877096e+09,\n",
      "         1.54877106e+09,   1.54892762e+09,   1.54877101e+09,\n",
      "         1.54877099e+09])\n"
     ]
    }
   ],
   "source": [
    "n_files_jf3 = len(jf3_files)\n",
    "jf3_date = np.zeros(n_files_jf3)\n",
    "\n",
    "for i in range(n_files_jf3):\n",
    "    jf3_date[i] = get_date(pede_path + jf3_files[i])\n",
    "pprint(jf3_date)"
   ]
  },
  {
   "cell_type": "code",
   "execution_count": 38,
   "metadata": {},
   "outputs": [
    {
     "name": "stdout",
     "output_type": "stream",
     "text": [
      "array([  1.54887329e+09,   1.54877101e+09,   1.54877098e+09,\n",
      "         1.54892955e+09,   1.54877096e+09,   1.54877109e+09,\n",
      "         1.54877106e+09,   1.54877103e+09,   1.54877105e+09,\n",
      "         1.54877390e+09,   1.54877335e+09])\n"
     ]
    }
   ],
   "source": [
    "n_files_jf7 = len(jf7_files)\n",
    "jf7_date = np.zeros(n_files_jf7)\n",
    "\n",
    "for i in range(n_files_jf7):\n",
    "    jf7_date[i] = get_date(pede_path + jf7_files[i])\n",
    "pprint(jf7_date)"
   ]
  },
  {
   "cell_type": "markdown",
   "metadata": {},
   "source": [
    "### compare to .json file date"
   ]
  },
  {
   "cell_type": "code",
   "execution_count": 39,
   "metadata": {},
   "outputs": [
    {
     "name": "stdout",
     "output_type": "stream",
     "text": [
      "1548914048.14598\n"
     ]
    }
   ],
   "source": [
    "run = '0068_droplets_10um_64mm'\n",
    "data_path = '/sf/bernina/data/p17743/res/scan_info/run%s.json'%run\n",
    "\n",
    "data_date = get_date(data_path)\n",
    "print(data_date)"
   ]
  },
  {
   "cell_type": "code",
   "execution_count": 53,
   "metadata": {},
   "outputs": [
    {
     "name": "stdout",
     "output_type": "stream",
     "text": [
      "pedestal_20190131_0918.JF03T01V01.res.h5\n",
      "13572.7456944 7\n"
     ]
    }
   ],
   "source": [
    "diff = np.abs(jf3_date-data_date)\n",
    "index_min = np.where(diff == np.min(diff))[0][0]\n",
    "print(jf3_files[index_min])"
   ]
  },
  {
   "cell_type": "code",
   "execution_count": 54,
   "metadata": {},
   "outputs": [
    {
     "name": "stdout",
     "output_type": "stream",
     "text": [
      "pedestal_20190131_0918.JF07T32V01.res.h5\n"
     ]
    }
   ],
   "source": [
    "diff = np.abs(jf7_date-data_date)\n",
    "index_min = np.where(diff == np.min(diff))[0][0]\n",
    "print(jf7_files[index_min])"
   ]
  },
  {
   "cell_type": "markdown",
   "metadata": {},
   "source": [
    "### testing the script version"
   ]
  },
  {
   "cell_type": "code",
   "execution_count": 56,
   "metadata": {
    "collapsed": true
   },
   "outputs": [],
   "source": [
    "sys.path.insert(0, '../src/')\n",
    "from pedestals import get_pedestals"
   ]
  },
  {
   "cell_type": "code",
   "execution_count": 58,
   "metadata": {},
   "outputs": [
    {
     "name": "stdout",
     "output_type": "stream",
     "text": [
      "('pedestal_20190131_0918.JF03T01V01.res.h5', 'pedestal_20190131_0918.JF07T32V01.res.h5')\n"
     ]
    }
   ],
   "source": [
    "print(get_pedestals(run))"
   ]
  },
  {
   "cell_type": "code",
   "execution_count": null,
   "metadata": {
    "collapsed": true
   },
   "outputs": [],
   "source": []
  }
 ],
 "metadata": {
  "kernelspec": {
   "display_name": "Python [conda env:4.4.0]",
   "language": "python",
   "name": "conda-env-4.4.0-py"
  },
  "language_info": {
   "codemirror_mode": {
    "name": "ipython",
    "version": 3
   },
   "file_extension": ".py",
   "mimetype": "text/x-python",
   "name": "python",
   "nbconvert_exporter": "python",
   "pygments_lexer": "ipython3",
   "version": "3.6.2"
  }
 },
 "nbformat": 4,
 "nbformat_minor": 2
}
